{
 "cells": [
  {
   "cell_type": "markdown",
   "id": "b53d4e73-8f44-449b-80e5-a21334b6cb22",
   "metadata": {},
   "source": [
    "loading test data file"
   ]
  },
  {
   "cell_type": "code",
   "execution_count": null,
   "id": "9e617552",
   "metadata": {},
   "outputs": [],
   "source": []
  },
  {
   "cell_type": "code",
   "execution_count": null,
   "id": "55152a6a",
   "metadata": {},
   "outputs": [],
   "source": []
  },
  {
   "cell_type": "code",
   "execution_count": 5,
   "id": "886154a7-aae2-4a33-a96b-27ccbb63d6f6",
   "metadata": {},
   "outputs": [
    {
     "ename": "ModuleNotFoundError",
     "evalue": "No module named 'nltk'",
     "output_type": "error",
     "traceback": [
      "\u001b[1;31m---------------------------------------------------------------------------\u001b[0m",
      "\u001b[1;31mModuleNotFoundError\u001b[0m                       Traceback (most recent call last)",
      "\u001b[1;32m<ipython-input-5-61c7378e5133>\u001b[0m in \u001b[0;36m<module>\u001b[1;34m\u001b[0m\n\u001b[1;32m----> 1\u001b[1;33m \u001b[1;32mfrom\u001b[0m \u001b[0mnltk\u001b[0m \u001b[1;32mimport\u001b[0m \u001b[0mword_tokenize\u001b[0m\u001b[1;33m\u001b[0m\u001b[1;33m\u001b[0m\u001b[0m\n\u001b[0m\u001b[0;32m      2\u001b[0m \u001b[1;32mimport\u001b[0m \u001b[0mcsv\u001b[0m\u001b[1;33m\u001b[0m\u001b[1;33m\u001b[0m\u001b[0m\n\u001b[0;32m      3\u001b[0m \u001b[1;33m\u001b[0m\u001b[0m\n\u001b[0;32m      4\u001b[0m \u001b[0mvocab\u001b[0m \u001b[1;33m=\u001b[0m \u001b[1;33m[\u001b[0m\u001b[1;33m]\u001b[0m\u001b[1;33m\u001b[0m\u001b[1;33m\u001b[0m\u001b[0m\n\u001b[0;32m      5\u001b[0m \u001b[0msentence\u001b[0m \u001b[1;33m=\u001b[0m \u001b[1;33m[\u001b[0m\u001b[1;33m]\u001b[0m\u001b[1;33m\u001b[0m\u001b[1;33m\u001b[0m\u001b[0m\n",
      "\u001b[1;31mModuleNotFoundError\u001b[0m: No module named 'nltk'"
     ]
    }
   ],
   "source": [
    "from nltk import word_tokenize\n",
    "import csv\n",
    "\n",
    "vocab = []\n",
    "sentence = []\n",
    "line_no = 0\n",
    "with open('new_data.csv') as readFile:\n",
    "    reader = csv.reader(readFile)\n",
    "    next(reader)\n",
    "    for row in reader:\n",
    "        line_no = line_no+1\n",
    "        #print(row)\n",
    "        words = word_tokenize(row[1])\n",
    "        sentence = [word.lower() for word in words if word.isalpha()]\n",
    "        #print(sentence)\n",
    "        for word in sentence:\n",
    "            if word not in vocab:\n",
    "                vocab.append(word)\n",
    "        print(line_no)\n",
    "with open('vocab.txt','w') as textFile:\n",
    "    string = \",\".join(vocab)\n",
    "    textFile.write(string)"
   ]
  },
  {
   "cell_type": "markdown",
   "id": "b2c1d4d2-7a88-40fa-9099-781c2365f243",
   "metadata": {},
   "source": [
    "creating the bag of words"
   ]
  },
  {
   "cell_type": "code",
   "execution_count": null,
   "id": "8178a208-388d-40cd-82aa-8a35f44eb35c",
   "metadata": {},
   "outputs": [],
   "source": []
  }
 ],
 "metadata": {
  "kernelspec": {
   "display_name": "Python 3",
   "language": "python",
   "name": "python3"
  },
  "language_info": {
   "codemirror_mode": {
    "name": "ipython",
    "version": 3
   },
   "file_extension": ".py",
   "mimetype": "text/x-python",
   "name": "python",
   "nbconvert_exporter": "python",
   "pygments_lexer": "ipython3",
   "version": "3.9.4"
  }
 },
 "nbformat": 4,
 "nbformat_minor": 5
}
